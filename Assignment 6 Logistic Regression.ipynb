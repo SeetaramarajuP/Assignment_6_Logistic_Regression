{
  "cells": [
    {
      "metadata": {
        "ExecuteTime": {
          "end_time": "2023-05-29T06:23:36.227011Z",
          "start_time": "2023-05-29T06:23:36.209145Z"
        },
        "trusted": false
      },
      "id": "2933c4a9",
      "cell_type": "code",
      "source": "import pandas as pd \nimport matplotlib.pyplot as plt\nimport seaborn as sns\nimport numpy as np",
      "execution_count": 14,
      "outputs": []
    },
    {
      "metadata": {
        "ExecuteTime": {
          "end_time": "2023-05-29T06:23:38.885620Z",
          "start_time": "2023-05-29T06:23:38.696392Z"
        },
        "trusted": false
      },
      "id": "df670f01",
      "cell_type": "code",
      "source": "bank=pd.read_csv('bank-full.csv',sep=';')\nbank",
      "execution_count": 15,
      "outputs": [
        {
          "data": {
            "text/html": "<div>\n<style scoped>\n    .dataframe tbody tr th:only-of-type {\n        vertical-align: middle;\n    }\n\n    .dataframe tbody tr th {\n        vertical-align: top;\n    }\n\n    .dataframe thead th {\n        text-align: right;\n    }\n</style>\n<table border=\"1\" class=\"dataframe\">\n  <thead>\n    <tr style=\"text-align: right;\">\n      <th></th>\n      <th>age</th>\n      <th>job</th>\n      <th>marital</th>\n      <th>education</th>\n      <th>default</th>\n      <th>balance</th>\n      <th>housing</th>\n      <th>loan</th>\n      <th>contact</th>\n      <th>day</th>\n      <th>month</th>\n      <th>duration</th>\n      <th>campaign</th>\n      <th>pdays</th>\n      <th>previous</th>\n      <th>poutcome</th>\n      <th>y</th>\n    </tr>\n  </thead>\n  <tbody>\n    <tr>\n      <th>0</th>\n      <td>58</td>\n      <td>management</td>\n      <td>married</td>\n      <td>tertiary</td>\n      <td>no</td>\n      <td>2143</td>\n      <td>yes</td>\n      <td>no</td>\n      <td>unknown</td>\n      <td>5</td>\n      <td>may</td>\n      <td>261</td>\n      <td>1</td>\n      <td>-1</td>\n      <td>0</td>\n      <td>unknown</td>\n      <td>no</td>\n    </tr>\n    <tr>\n      <th>1</th>\n      <td>44</td>\n      <td>technician</td>\n      <td>single</td>\n      <td>secondary</td>\n      <td>no</td>\n      <td>29</td>\n      <td>yes</td>\n      <td>no</td>\n      <td>unknown</td>\n      <td>5</td>\n      <td>may</td>\n      <td>151</td>\n      <td>1</td>\n      <td>-1</td>\n      <td>0</td>\n      <td>unknown</td>\n      <td>no</td>\n    </tr>\n    <tr>\n      <th>2</th>\n      <td>33</td>\n      <td>entrepreneur</td>\n      <td>married</td>\n      <td>secondary</td>\n      <td>no</td>\n      <td>2</td>\n      <td>yes</td>\n      <td>yes</td>\n      <td>unknown</td>\n      <td>5</td>\n      <td>may</td>\n      <td>76</td>\n      <td>1</td>\n      <td>-1</td>\n      <td>0</td>\n      <td>unknown</td>\n      <td>no</td>\n    </tr>\n    <tr>\n      <th>3</th>\n      <td>47</td>\n      <td>blue-collar</td>\n      <td>married</td>\n      <td>unknown</td>\n      <td>no</td>\n      <td>1506</td>\n      <td>yes</td>\n      <td>no</td>\n      <td>unknown</td>\n      <td>5</td>\n      <td>may</td>\n      <td>92</td>\n      <td>1</td>\n      <td>-1</td>\n      <td>0</td>\n      <td>unknown</td>\n      <td>no</td>\n    </tr>\n    <tr>\n      <th>4</th>\n      <td>33</td>\n      <td>unknown</td>\n      <td>single</td>\n      <td>unknown</td>\n      <td>no</td>\n      <td>1</td>\n      <td>no</td>\n      <td>no</td>\n      <td>unknown</td>\n      <td>5</td>\n      <td>may</td>\n      <td>198</td>\n      <td>1</td>\n      <td>-1</td>\n      <td>0</td>\n      <td>unknown</td>\n      <td>no</td>\n    </tr>\n    <tr>\n      <th>...</th>\n      <td>...</td>\n      <td>...</td>\n      <td>...</td>\n      <td>...</td>\n      <td>...</td>\n      <td>...</td>\n      <td>...</td>\n      <td>...</td>\n      <td>...</td>\n      <td>...</td>\n      <td>...</td>\n      <td>...</td>\n      <td>...</td>\n      <td>...</td>\n      <td>...</td>\n      <td>...</td>\n      <td>...</td>\n    </tr>\n    <tr>\n      <th>45206</th>\n      <td>51</td>\n      <td>technician</td>\n      <td>married</td>\n      <td>tertiary</td>\n      <td>no</td>\n      <td>825</td>\n      <td>no</td>\n      <td>no</td>\n      <td>cellular</td>\n      <td>17</td>\n      <td>nov</td>\n      <td>977</td>\n      <td>3</td>\n      <td>-1</td>\n      <td>0</td>\n      <td>unknown</td>\n      <td>yes</td>\n    </tr>\n    <tr>\n      <th>45207</th>\n      <td>71</td>\n      <td>retired</td>\n      <td>divorced</td>\n      <td>primary</td>\n      <td>no</td>\n      <td>1729</td>\n      <td>no</td>\n      <td>no</td>\n      <td>cellular</td>\n      <td>17</td>\n      <td>nov</td>\n      <td>456</td>\n      <td>2</td>\n      <td>-1</td>\n      <td>0</td>\n      <td>unknown</td>\n      <td>yes</td>\n    </tr>\n    <tr>\n      <th>45208</th>\n      <td>72</td>\n      <td>retired</td>\n      <td>married</td>\n      <td>secondary</td>\n      <td>no</td>\n      <td>5715</td>\n      <td>no</td>\n      <td>no</td>\n      <td>cellular</td>\n      <td>17</td>\n      <td>nov</td>\n      <td>1127</td>\n      <td>5</td>\n      <td>184</td>\n      <td>3</td>\n      <td>success</td>\n      <td>yes</td>\n    </tr>\n    <tr>\n      <th>45209</th>\n      <td>57</td>\n      <td>blue-collar</td>\n      <td>married</td>\n      <td>secondary</td>\n      <td>no</td>\n      <td>668</td>\n      <td>no</td>\n      <td>no</td>\n      <td>telephone</td>\n      <td>17</td>\n      <td>nov</td>\n      <td>508</td>\n      <td>4</td>\n      <td>-1</td>\n      <td>0</td>\n      <td>unknown</td>\n      <td>no</td>\n    </tr>\n    <tr>\n      <th>45210</th>\n      <td>37</td>\n      <td>entrepreneur</td>\n      <td>married</td>\n      <td>secondary</td>\n      <td>no</td>\n      <td>2971</td>\n      <td>no</td>\n      <td>no</td>\n      <td>cellular</td>\n      <td>17</td>\n      <td>nov</td>\n      <td>361</td>\n      <td>2</td>\n      <td>188</td>\n      <td>11</td>\n      <td>other</td>\n      <td>no</td>\n    </tr>\n  </tbody>\n</table>\n<p>45211 rows × 17 columns</p>\n</div>",
            "text/plain": "       age           job   marital  education default  balance housing loan  \\\n0       58    management   married   tertiary      no     2143     yes   no   \n1       44    technician    single  secondary      no       29     yes   no   \n2       33  entrepreneur   married  secondary      no        2     yes  yes   \n3       47   blue-collar   married    unknown      no     1506     yes   no   \n4       33       unknown    single    unknown      no        1      no   no   \n...    ...           ...       ...        ...     ...      ...     ...  ...   \n45206   51    technician   married   tertiary      no      825      no   no   \n45207   71       retired  divorced    primary      no     1729      no   no   \n45208   72       retired   married  secondary      no     5715      no   no   \n45209   57   blue-collar   married  secondary      no      668      no   no   \n45210   37  entrepreneur   married  secondary      no     2971      no   no   \n\n         contact  day month  duration  campaign  pdays  previous poutcome    y  \n0        unknown    5   may       261         1     -1         0  unknown   no  \n1        unknown    5   may       151         1     -1         0  unknown   no  \n2        unknown    5   may        76         1     -1         0  unknown   no  \n3        unknown    5   may        92         1     -1         0  unknown   no  \n4        unknown    5   may       198         1     -1         0  unknown   no  \n...          ...  ...   ...       ...       ...    ...       ...      ...  ...  \n45206   cellular   17   nov       977         3     -1         0  unknown  yes  \n45207   cellular   17   nov       456         2     -1         0  unknown  yes  \n45208   cellular   17   nov      1127         5    184         3  success  yes  \n45209  telephone   17   nov       508         4     -1         0  unknown   no  \n45210   cellular   17   nov       361         2    188        11    other   no  \n\n[45211 rows x 17 columns]"
          },
          "execution_count": 15,
          "metadata": {},
          "output_type": "execute_result"
        }
      ]
    },
    {
      "metadata": {
        "ExecuteTime": {
          "end_time": "2023-05-29T06:23:41.287029Z",
          "start_time": "2023-05-29T06:23:41.148421Z"
        },
        "trusted": false
      },
      "id": "76209a40",
      "cell_type": "code",
      "source": "bank.isnull().sum()",
      "execution_count": 16,
      "outputs": [
        {
          "data": {
            "text/plain": "age          0\njob          0\nmarital      0\neducation    0\ndefault      0\nbalance      0\nhousing      0\nloan         0\ncontact      0\nday          0\nmonth        0\nduration     0\ncampaign     0\npdays        0\nprevious     0\npoutcome     0\ny            0\ndtype: int64"
          },
          "execution_count": 16,
          "metadata": {},
          "output_type": "execute_result"
        }
      ]
    },
    {
      "metadata": {
        "ExecuteTime": {
          "end_time": "2023-05-29T06:23:42.984379Z",
          "start_time": "2023-05-29T06:23:42.830491Z"
        },
        "trusted": false
      },
      "id": "378e967b",
      "cell_type": "code",
      "source": "bank.info()",
      "execution_count": 17,
      "outputs": [
        {
          "name": "stdout",
          "output_type": "stream",
          "text": "<class 'pandas.core.frame.DataFrame'>\nRangeIndex: 45211 entries, 0 to 45210\nData columns (total 17 columns):\n #   Column     Non-Null Count  Dtype \n---  ------     --------------  ----- \n 0   age        45211 non-null  int64 \n 1   job        45211 non-null  object\n 2   marital    45211 non-null  object\n 3   education  45211 non-null  object\n 4   default    45211 non-null  object\n 5   balance    45211 non-null  int64 \n 6   housing    45211 non-null  object\n 7   loan       45211 non-null  object\n 8   contact    45211 non-null  object\n 9   day        45211 non-null  int64 \n 10  month      45211 non-null  object\n 11  duration   45211 non-null  int64 \n 12  campaign   45211 non-null  int64 \n 13  pdays      45211 non-null  int64 \n 14  previous   45211 non-null  int64 \n 15  poutcome   45211 non-null  object\n 16  y          45211 non-null  object\ndtypes: int64(7), object(10)\nmemory usage: 5.9+ MB\n"
        }
      ]
    },
    {
      "metadata": {
        "ExecuteTime": {
          "end_time": "2023-05-29T06:23:44.117472Z",
          "start_time": "2023-05-29T06:23:43.979961Z"
        },
        "trusted": false
      },
      "id": "d54c9efc",
      "cell_type": "code",
      "source": "bank1=pd.get_dummies(bank,columns=['job','marital','education','contact','month','poutcome'])\nbank1",
      "execution_count": 18,
      "outputs": [
        {
          "data": {
            "text/html": "<div>\n<style scoped>\n    .dataframe tbody tr th:only-of-type {\n        vertical-align: middle;\n    }\n\n    .dataframe tbody tr th {\n        vertical-align: top;\n    }\n\n    .dataframe thead th {\n        text-align: right;\n    }\n</style>\n<table border=\"1\" class=\"dataframe\">\n  <thead>\n    <tr style=\"text-align: right;\">\n      <th></th>\n      <th>age</th>\n      <th>default</th>\n      <th>balance</th>\n      <th>housing</th>\n      <th>loan</th>\n      <th>day</th>\n      <th>duration</th>\n      <th>campaign</th>\n      <th>pdays</th>\n      <th>previous</th>\n      <th>...</th>\n      <th>month_jun</th>\n      <th>month_mar</th>\n      <th>month_may</th>\n      <th>month_nov</th>\n      <th>month_oct</th>\n      <th>month_sep</th>\n      <th>poutcome_failure</th>\n      <th>poutcome_other</th>\n      <th>poutcome_success</th>\n      <th>poutcome_unknown</th>\n    </tr>\n  </thead>\n  <tbody>\n    <tr>\n      <th>0</th>\n      <td>58</td>\n      <td>no</td>\n      <td>2143</td>\n      <td>yes</td>\n      <td>no</td>\n      <td>5</td>\n      <td>261</td>\n      <td>1</td>\n      <td>-1</td>\n      <td>0</td>\n      <td>...</td>\n      <td>0</td>\n      <td>0</td>\n      <td>1</td>\n      <td>0</td>\n      <td>0</td>\n      <td>0</td>\n      <td>0</td>\n      <td>0</td>\n      <td>0</td>\n      <td>1</td>\n    </tr>\n    <tr>\n      <th>1</th>\n      <td>44</td>\n      <td>no</td>\n      <td>29</td>\n      <td>yes</td>\n      <td>no</td>\n      <td>5</td>\n      <td>151</td>\n      <td>1</td>\n      <td>-1</td>\n      <td>0</td>\n      <td>...</td>\n      <td>0</td>\n      <td>0</td>\n      <td>1</td>\n      <td>0</td>\n      <td>0</td>\n      <td>0</td>\n      <td>0</td>\n      <td>0</td>\n      <td>0</td>\n      <td>1</td>\n    </tr>\n    <tr>\n      <th>2</th>\n      <td>33</td>\n      <td>no</td>\n      <td>2</td>\n      <td>yes</td>\n      <td>yes</td>\n      <td>5</td>\n      <td>76</td>\n      <td>1</td>\n      <td>-1</td>\n      <td>0</td>\n      <td>...</td>\n      <td>0</td>\n      <td>0</td>\n      <td>1</td>\n      <td>0</td>\n      <td>0</td>\n      <td>0</td>\n      <td>0</td>\n      <td>0</td>\n      <td>0</td>\n      <td>1</td>\n    </tr>\n    <tr>\n      <th>3</th>\n      <td>47</td>\n      <td>no</td>\n      <td>1506</td>\n      <td>yes</td>\n      <td>no</td>\n      <td>5</td>\n      <td>92</td>\n      <td>1</td>\n      <td>-1</td>\n      <td>0</td>\n      <td>...</td>\n      <td>0</td>\n      <td>0</td>\n      <td>1</td>\n      <td>0</td>\n      <td>0</td>\n      <td>0</td>\n      <td>0</td>\n      <td>0</td>\n      <td>0</td>\n      <td>1</td>\n    </tr>\n    <tr>\n      <th>4</th>\n      <td>33</td>\n      <td>no</td>\n      <td>1</td>\n      <td>no</td>\n      <td>no</td>\n      <td>5</td>\n      <td>198</td>\n      <td>1</td>\n      <td>-1</td>\n      <td>0</td>\n      <td>...</td>\n      <td>0</td>\n      <td>0</td>\n      <td>1</td>\n      <td>0</td>\n      <td>0</td>\n      <td>0</td>\n      <td>0</td>\n      <td>0</td>\n      <td>0</td>\n      <td>1</td>\n    </tr>\n    <tr>\n      <th>...</th>\n      <td>...</td>\n      <td>...</td>\n      <td>...</td>\n      <td>...</td>\n      <td>...</td>\n      <td>...</td>\n      <td>...</td>\n      <td>...</td>\n      <td>...</td>\n      <td>...</td>\n      <td>...</td>\n      <td>...</td>\n      <td>...</td>\n      <td>...</td>\n      <td>...</td>\n      <td>...</td>\n      <td>...</td>\n      <td>...</td>\n      <td>...</td>\n      <td>...</td>\n      <td>...</td>\n    </tr>\n    <tr>\n      <th>45206</th>\n      <td>51</td>\n      <td>no</td>\n      <td>825</td>\n      <td>no</td>\n      <td>no</td>\n      <td>17</td>\n      <td>977</td>\n      <td>3</td>\n      <td>-1</td>\n      <td>0</td>\n      <td>...</td>\n      <td>0</td>\n      <td>0</td>\n      <td>0</td>\n      <td>1</td>\n      <td>0</td>\n      <td>0</td>\n      <td>0</td>\n      <td>0</td>\n      <td>0</td>\n      <td>1</td>\n    </tr>\n    <tr>\n      <th>45207</th>\n      <td>71</td>\n      <td>no</td>\n      <td>1729</td>\n      <td>no</td>\n      <td>no</td>\n      <td>17</td>\n      <td>456</td>\n      <td>2</td>\n      <td>-1</td>\n      <td>0</td>\n      <td>...</td>\n      <td>0</td>\n      <td>0</td>\n      <td>0</td>\n      <td>1</td>\n      <td>0</td>\n      <td>0</td>\n      <td>0</td>\n      <td>0</td>\n      <td>0</td>\n      <td>1</td>\n    </tr>\n    <tr>\n      <th>45208</th>\n      <td>72</td>\n      <td>no</td>\n      <td>5715</td>\n      <td>no</td>\n      <td>no</td>\n      <td>17</td>\n      <td>1127</td>\n      <td>5</td>\n      <td>184</td>\n      <td>3</td>\n      <td>...</td>\n      <td>0</td>\n      <td>0</td>\n      <td>0</td>\n      <td>1</td>\n      <td>0</td>\n      <td>0</td>\n      <td>0</td>\n      <td>0</td>\n      <td>1</td>\n      <td>0</td>\n    </tr>\n    <tr>\n      <th>45209</th>\n      <td>57</td>\n      <td>no</td>\n      <td>668</td>\n      <td>no</td>\n      <td>no</td>\n      <td>17</td>\n      <td>508</td>\n      <td>4</td>\n      <td>-1</td>\n      <td>0</td>\n      <td>...</td>\n      <td>0</td>\n      <td>0</td>\n      <td>0</td>\n      <td>1</td>\n      <td>0</td>\n      <td>0</td>\n      <td>0</td>\n      <td>0</td>\n      <td>0</td>\n      <td>1</td>\n    </tr>\n    <tr>\n      <th>45210</th>\n      <td>37</td>\n      <td>no</td>\n      <td>2971</td>\n      <td>no</td>\n      <td>no</td>\n      <td>17</td>\n      <td>361</td>\n      <td>2</td>\n      <td>188</td>\n      <td>11</td>\n      <td>...</td>\n      <td>0</td>\n      <td>0</td>\n      <td>0</td>\n      <td>1</td>\n      <td>0</td>\n      <td>0</td>\n      <td>0</td>\n      <td>1</td>\n      <td>0</td>\n      <td>0</td>\n    </tr>\n  </tbody>\n</table>\n<p>45211 rows × 49 columns</p>\n</div>",
            "text/plain": "       age default  balance housing loan  day  duration  campaign  pdays  \\\n0       58      no     2143     yes   no    5       261         1     -1   \n1       44      no       29     yes   no    5       151         1     -1   \n2       33      no        2     yes  yes    5        76         1     -1   \n3       47      no     1506     yes   no    5        92         1     -1   \n4       33      no        1      no   no    5       198         1     -1   \n...    ...     ...      ...     ...  ...  ...       ...       ...    ...   \n45206   51      no      825      no   no   17       977         3     -1   \n45207   71      no     1729      no   no   17       456         2     -1   \n45208   72      no     5715      no   no   17      1127         5    184   \n45209   57      no      668      no   no   17       508         4     -1   \n45210   37      no     2971      no   no   17       361         2    188   \n\n       previous  ... month_jun  month_mar  month_may  month_nov  month_oct  \\\n0             0  ...         0          0          1          0          0   \n1             0  ...         0          0          1          0          0   \n2             0  ...         0          0          1          0          0   \n3             0  ...         0          0          1          0          0   \n4             0  ...         0          0          1          0          0   \n...         ...  ...       ...        ...        ...        ...        ...   \n45206         0  ...         0          0          0          1          0   \n45207         0  ...         0          0          0          1          0   \n45208         3  ...         0          0          0          1          0   \n45209         0  ...         0          0          0          1          0   \n45210        11  ...         0          0          0          1          0   \n\n       month_sep  poutcome_failure  poutcome_other  poutcome_success  \\\n0              0                 0               0                 0   \n1              0                 0               0                 0   \n2              0                 0               0                 0   \n3              0                 0               0                 0   \n4              0                 0               0                 0   \n...          ...               ...             ...               ...   \n45206          0                 0               0                 0   \n45207          0                 0               0                 0   \n45208          0                 0               0                 1   \n45209          0                 0               0                 0   \n45210          0                 0               1                 0   \n\n       poutcome_unknown  \n0                     1  \n1                     1  \n2                     1  \n3                     1  \n4                     1  \n...                 ...  \n45206                 1  \n45207                 1  \n45208                 0  \n45209                 1  \n45210                 0  \n\n[45211 rows x 49 columns]"
          },
          "execution_count": 18,
          "metadata": {},
          "output_type": "execute_result"
        }
      ]
    },
    {
      "metadata": {
        "ExecuteTime": {
          "end_time": "2023-05-29T06:40:02.961669Z",
          "start_time": "2023-05-29T06:40:02.691442Z"
        },
        "trusted": false
      },
      "id": "fdfe013a",
      "cell_type": "code",
      "source": "bank1['default'] = np.where(bank1['default'].astype(str).str.contains('yes'), 1, 0)\nbank1['housing'] = np.where(bank1['housing'].astype(str).str.contains('yes'), 1, 0)\nbank1['loan'] = np.where(bank1['loan'].astype(str).str.contains('yes'), 1, 0)\nbank1['y'] = np.where(bank1['y'].astype(str).str.contains('yes'), 1, 0)\nbank1",
      "execution_count": 27,
      "outputs": [
        {
          "data": {
            "text/html": "<div>\n<style scoped>\n    .dataframe tbody tr th:only-of-type {\n        vertical-align: middle;\n    }\n\n    .dataframe tbody tr th {\n        vertical-align: top;\n    }\n\n    .dataframe thead th {\n        text-align: right;\n    }\n</style>\n<table border=\"1\" class=\"dataframe\">\n  <thead>\n    <tr style=\"text-align: right;\">\n      <th></th>\n      <th>age</th>\n      <th>default</th>\n      <th>balance</th>\n      <th>housing</th>\n      <th>loan</th>\n      <th>day</th>\n      <th>duration</th>\n      <th>campaign</th>\n      <th>pdays</th>\n      <th>previous</th>\n      <th>...</th>\n      <th>month_jun</th>\n      <th>month_mar</th>\n      <th>month_may</th>\n      <th>month_nov</th>\n      <th>month_oct</th>\n      <th>month_sep</th>\n      <th>poutcome_failure</th>\n      <th>poutcome_other</th>\n      <th>poutcome_success</th>\n      <th>poutcome_unknown</th>\n    </tr>\n  </thead>\n  <tbody>\n    <tr>\n      <th>0</th>\n      <td>58</td>\n      <td>0</td>\n      <td>2143</td>\n      <td>1</td>\n      <td>0</td>\n      <td>5</td>\n      <td>261</td>\n      <td>1</td>\n      <td>-1</td>\n      <td>0</td>\n      <td>...</td>\n      <td>0</td>\n      <td>0</td>\n      <td>1</td>\n      <td>0</td>\n      <td>0</td>\n      <td>0</td>\n      <td>0</td>\n      <td>0</td>\n      <td>0</td>\n      <td>1</td>\n    </tr>\n    <tr>\n      <th>1</th>\n      <td>44</td>\n      <td>0</td>\n      <td>29</td>\n      <td>1</td>\n      <td>0</td>\n      <td>5</td>\n      <td>151</td>\n      <td>1</td>\n      <td>-1</td>\n      <td>0</td>\n      <td>...</td>\n      <td>0</td>\n      <td>0</td>\n      <td>1</td>\n      <td>0</td>\n      <td>0</td>\n      <td>0</td>\n      <td>0</td>\n      <td>0</td>\n      <td>0</td>\n      <td>1</td>\n    </tr>\n    <tr>\n      <th>2</th>\n      <td>33</td>\n      <td>0</td>\n      <td>2</td>\n      <td>1</td>\n      <td>1</td>\n      <td>5</td>\n      <td>76</td>\n      <td>1</td>\n      <td>-1</td>\n      <td>0</td>\n      <td>...</td>\n      <td>0</td>\n      <td>0</td>\n      <td>1</td>\n      <td>0</td>\n      <td>0</td>\n      <td>0</td>\n      <td>0</td>\n      <td>0</td>\n      <td>0</td>\n      <td>1</td>\n    </tr>\n    <tr>\n      <th>3</th>\n      <td>47</td>\n      <td>0</td>\n      <td>1506</td>\n      <td>1</td>\n      <td>0</td>\n      <td>5</td>\n      <td>92</td>\n      <td>1</td>\n      <td>-1</td>\n      <td>0</td>\n      <td>...</td>\n      <td>0</td>\n      <td>0</td>\n      <td>1</td>\n      <td>0</td>\n      <td>0</td>\n      <td>0</td>\n      <td>0</td>\n      <td>0</td>\n      <td>0</td>\n      <td>1</td>\n    </tr>\n    <tr>\n      <th>4</th>\n      <td>33</td>\n      <td>0</td>\n      <td>1</td>\n      <td>0</td>\n      <td>0</td>\n      <td>5</td>\n      <td>198</td>\n      <td>1</td>\n      <td>-1</td>\n      <td>0</td>\n      <td>...</td>\n      <td>0</td>\n      <td>0</td>\n      <td>1</td>\n      <td>0</td>\n      <td>0</td>\n      <td>0</td>\n      <td>0</td>\n      <td>0</td>\n      <td>0</td>\n      <td>1</td>\n    </tr>\n    <tr>\n      <th>...</th>\n      <td>...</td>\n      <td>...</td>\n      <td>...</td>\n      <td>...</td>\n      <td>...</td>\n      <td>...</td>\n      <td>...</td>\n      <td>...</td>\n      <td>...</td>\n      <td>...</td>\n      <td>...</td>\n      <td>...</td>\n      <td>...</td>\n      <td>...</td>\n      <td>...</td>\n      <td>...</td>\n      <td>...</td>\n      <td>...</td>\n      <td>...</td>\n      <td>...</td>\n      <td>...</td>\n    </tr>\n    <tr>\n      <th>45206</th>\n      <td>51</td>\n      <td>0</td>\n      <td>825</td>\n      <td>0</td>\n      <td>0</td>\n      <td>17</td>\n      <td>977</td>\n      <td>3</td>\n      <td>-1</td>\n      <td>0</td>\n      <td>...</td>\n      <td>0</td>\n      <td>0</td>\n      <td>0</td>\n      <td>1</td>\n      <td>0</td>\n      <td>0</td>\n      <td>0</td>\n      <td>0</td>\n      <td>0</td>\n      <td>1</td>\n    </tr>\n    <tr>\n      <th>45207</th>\n      <td>71</td>\n      <td>0</td>\n      <td>1729</td>\n      <td>0</td>\n      <td>0</td>\n      <td>17</td>\n      <td>456</td>\n      <td>2</td>\n      <td>-1</td>\n      <td>0</td>\n      <td>...</td>\n      <td>0</td>\n      <td>0</td>\n      <td>0</td>\n      <td>1</td>\n      <td>0</td>\n      <td>0</td>\n      <td>0</td>\n      <td>0</td>\n      <td>0</td>\n      <td>1</td>\n    </tr>\n    <tr>\n      <th>45208</th>\n      <td>72</td>\n      <td>0</td>\n      <td>5715</td>\n      <td>0</td>\n      <td>0</td>\n      <td>17</td>\n      <td>1127</td>\n      <td>5</td>\n      <td>184</td>\n      <td>3</td>\n      <td>...</td>\n      <td>0</td>\n      <td>0</td>\n      <td>0</td>\n      <td>1</td>\n      <td>0</td>\n      <td>0</td>\n      <td>0</td>\n      <td>0</td>\n      <td>1</td>\n      <td>0</td>\n    </tr>\n    <tr>\n      <th>45209</th>\n      <td>57</td>\n      <td>0</td>\n      <td>668</td>\n      <td>0</td>\n      <td>0</td>\n      <td>17</td>\n      <td>508</td>\n      <td>4</td>\n      <td>-1</td>\n      <td>0</td>\n      <td>...</td>\n      <td>0</td>\n      <td>0</td>\n      <td>0</td>\n      <td>1</td>\n      <td>0</td>\n      <td>0</td>\n      <td>0</td>\n      <td>0</td>\n      <td>0</td>\n      <td>1</td>\n    </tr>\n    <tr>\n      <th>45210</th>\n      <td>37</td>\n      <td>0</td>\n      <td>2971</td>\n      <td>0</td>\n      <td>0</td>\n      <td>17</td>\n      <td>361</td>\n      <td>2</td>\n      <td>188</td>\n      <td>11</td>\n      <td>...</td>\n      <td>0</td>\n      <td>0</td>\n      <td>0</td>\n      <td>1</td>\n      <td>0</td>\n      <td>0</td>\n      <td>0</td>\n      <td>1</td>\n      <td>0</td>\n      <td>0</td>\n    </tr>\n  </tbody>\n</table>\n<p>45211 rows × 49 columns</p>\n</div>",
            "text/plain": "       age  default  balance  housing  loan  day  duration  campaign  pdays  \\\n0       58        0     2143        1     0    5       261         1     -1   \n1       44        0       29        1     0    5       151         1     -1   \n2       33        0        2        1     1    5        76         1     -1   \n3       47        0     1506        1     0    5        92         1     -1   \n4       33        0        1        0     0    5       198         1     -1   \n...    ...      ...      ...      ...   ...  ...       ...       ...    ...   \n45206   51        0      825        0     0   17       977         3     -1   \n45207   71        0     1729        0     0   17       456         2     -1   \n45208   72        0     5715        0     0   17      1127         5    184   \n45209   57        0      668        0     0   17       508         4     -1   \n45210   37        0     2971        0     0   17       361         2    188   \n\n       previous  ...  month_jun  month_mar  month_may  month_nov  month_oct  \\\n0             0  ...          0          0          1          0          0   \n1             0  ...          0          0          1          0          0   \n2             0  ...          0          0          1          0          0   \n3             0  ...          0          0          1          0          0   \n4             0  ...          0          0          1          0          0   \n...         ...  ...        ...        ...        ...        ...        ...   \n45206         0  ...          0          0          0          1          0   \n45207         0  ...          0          0          0          1          0   \n45208         3  ...          0          0          0          1          0   \n45209         0  ...          0          0          0          1          0   \n45210        11  ...          0          0          0          1          0   \n\n       month_sep  poutcome_failure  poutcome_other  poutcome_success  \\\n0              0                 0               0                 0   \n1              0                 0               0                 0   \n2              0                 0               0                 0   \n3              0                 0               0                 0   \n4              0                 0               0                 0   \n...          ...               ...             ...               ...   \n45206          0                 0               0                 0   \n45207          0                 0               0                 0   \n45208          0                 0               0                 1   \n45209          0                 0               0                 0   \n45210          0                 0               1                 0   \n\n       poutcome_unknown  \n0                     1  \n1                     1  \n2                     1  \n3                     1  \n4                     1  \n...                 ...  \n45206                 1  \n45207                 1  \n45208                 0  \n45209                 1  \n45210                 0  \n\n[45211 rows x 49 columns]"
          },
          "execution_count": 27,
          "metadata": {},
          "output_type": "execute_result"
        }
      ]
    },
    {
      "metadata": {
        "ExecuteTime": {
          "end_time": "2023-05-29T06:41:03.610102Z",
          "start_time": "2023-05-29T06:41:03.568786Z"
        },
        "trusted": false
      },
      "id": "122fc525",
      "cell_type": "code",
      "source": "bank1.info()",
      "execution_count": 28,
      "outputs": [
        {
          "name": "stdout",
          "output_type": "stream",
          "text": "<class 'pandas.core.frame.DataFrame'>\nRangeIndex: 45211 entries, 0 to 45210\nData columns (total 49 columns):\n #   Column               Non-Null Count  Dtype\n---  ------               --------------  -----\n 0   age                  45211 non-null  int64\n 1   default              45211 non-null  int32\n 2   balance              45211 non-null  int64\n 3   housing              45211 non-null  int32\n 4   loan                 45211 non-null  int32\n 5   day                  45211 non-null  int64\n 6   duration             45211 non-null  int64\n 7   campaign             45211 non-null  int64\n 8   pdays                45211 non-null  int64\n 9   previous             45211 non-null  int64\n 10  y                    45211 non-null  int32\n 11  job_admin.           45211 non-null  uint8\n 12  job_blue-collar      45211 non-null  uint8\n 13  job_entrepreneur     45211 non-null  uint8\n 14  job_housemaid        45211 non-null  uint8\n 15  job_management       45211 non-null  uint8\n 16  job_retired          45211 non-null  uint8\n 17  job_self-employed    45211 non-null  uint8\n 18  job_services         45211 non-null  uint8\n 19  job_student          45211 non-null  uint8\n 20  job_technician       45211 non-null  uint8\n 21  job_unemployed       45211 non-null  uint8\n 22  job_unknown          45211 non-null  uint8\n 23  marital_divorced     45211 non-null  uint8\n 24  marital_married      45211 non-null  uint8\n 25  marital_single       45211 non-null  uint8\n 26  education_primary    45211 non-null  uint8\n 27  education_secondary  45211 non-null  uint8\n 28  education_tertiary   45211 non-null  uint8\n 29  education_unknown    45211 non-null  uint8\n 30  contact_cellular     45211 non-null  uint8\n 31  contact_telephone    45211 non-null  uint8\n 32  contact_unknown      45211 non-null  uint8\n 33  month_apr            45211 non-null  uint8\n 34  month_aug            45211 non-null  uint8\n 35  month_dec            45211 non-null  uint8\n 36  month_feb            45211 non-null  uint8\n 37  month_jan            45211 non-null  uint8\n 38  month_jul            45211 non-null  uint8\n 39  month_jun            45211 non-null  uint8\n 40  month_mar            45211 non-null  uint8\n 41  month_may            45211 non-null  uint8\n 42  month_nov            45211 non-null  uint8\n 43  month_oct            45211 non-null  uint8\n 44  month_sep            45211 non-null  uint8\n 45  poutcome_failure     45211 non-null  uint8\n 46  poutcome_other       45211 non-null  uint8\n 47  poutcome_success     45211 non-null  uint8\n 48  poutcome_unknown     45211 non-null  uint8\ndtypes: int32(4), int64(7), uint8(38)\nmemory usage: 4.7 MB\n"
        }
      ]
    },
    {
      "metadata": {
        "ExecuteTime": {
          "end_time": "2023-05-29T06:50:09.848889Z",
          "start_time": "2023-05-29T06:50:08.210326Z"
        },
        "trusted": false
      },
      "id": "21427f04",
      "cell_type": "code",
      "source": "from sklearn.linear_model import LogisticRegression\nx=pd.concat([bank1.iloc[:,0:10],bank1.iloc[:,11:]],axis=1)\ny=bank1.iloc[:,10]\nclassifier=LogisticRegression()\nclassifier.fit(x,y)",
      "execution_count": 32,
      "outputs": [
        {
          "name": "stderr",
          "output_type": "stream",
          "text": "C:\\Users\\DELL\\anaconda3\\lib\\site-packages\\sklearn\\linear_model\\_logistic.py:814: ConvergenceWarning: lbfgs failed to converge (status=1):\nSTOP: TOTAL NO. of ITERATIONS REACHED LIMIT.\n\nIncrease the number of iterations (max_iter) or scale the data as shown in:\n    https://scikit-learn.org/stable/modules/preprocessing.html\nPlease also refer to the documentation for alternative solver options:\n    https://scikit-learn.org/stable/modules/linear_model.html#logistic-regression\n  n_iter_i = _check_optimize_result(\n"
        },
        {
          "data": {
            "text/plain": "LogisticRegression()"
          },
          "execution_count": 32,
          "metadata": {},
          "output_type": "execute_result"
        }
      ]
    },
    {
      "metadata": {
        "ExecuteTime": {
          "end_time": "2023-05-29T06:50:45.964882Z",
          "start_time": "2023-05-29T06:50:45.948882Z"
        },
        "trusted": false
      },
      "id": "23d3fb3d",
      "cell_type": "code",
      "source": "classifier.coef_",
      "execution_count": 33,
      "outputs": [
        {
          "data": {
            "text/plain": "array([[-1.44942677e-02,  0.00000000e+00,  1.93306720e-05,\n        -7.39628062e-01, -2.13088572e-01, -1.48579275e-02,\n         3.72153523e-03, -4.20595989e-01,  2.15093983e-03,\n        -1.30281356e-01, -2.98027813e-02, -2.80236012e-01,\n        -2.97757098e-02, -9.60203899e-03,  7.29782768e-03,\n         1.83445278e-01, -1.76753530e-02, -9.82325948e-02,\n         3.32796923e-02, -7.71660044e-02,  3.25979344e-03,\n         2.72991337e-03,  1.79355357e-02, -1.91667662e-01,\n        -1.38745863e-01, -7.70686471e-02, -3.01285464e-01,\n         5.08220178e-02,  1.50541040e-02,  1.01619379e-01,\n         5.59739895e-02, -4.70071358e-01,  4.54493679e-02,\n         2.63812033e-02,  3.17650799e-02, -1.58141009e-02,\n        -1.47444250e-02, -9.08242751e-02, -6.05499984e-02,\n         9.58033852e-02, -4.58803932e-01, -6.26524175e-02,\n         1.09093579e-01,  8.24185432e-02, -1.49119954e-01,\n        -3.52019497e-02,  3.43955436e-01, -4.72111522e-01]])"
          },
          "execution_count": 33,
          "metadata": {},
          "output_type": "execute_result"
        }
      ]
    },
    {
      "metadata": {
        "ExecuteTime": {
          "end_time": "2023-05-29T06:55:49.669653Z",
          "start_time": "2023-05-29T06:55:49.597018Z"
        },
        "trusted": false
      },
      "id": "59406f3e",
      "cell_type": "code",
      "source": "y_pred=classifier.predict(x)\npred_df=pd.DataFrame({'Act_Y':y,'Pred_y':y_pred})\npred_df",
      "execution_count": 35,
      "outputs": [
        {
          "data": {
            "text/html": "<div>\n<style scoped>\n    .dataframe tbody tr th:only-of-type {\n        vertical-align: middle;\n    }\n\n    .dataframe tbody tr th {\n        vertical-align: top;\n    }\n\n    .dataframe thead th {\n        text-align: right;\n    }\n</style>\n<table border=\"1\" class=\"dataframe\">\n  <thead>\n    <tr style=\"text-align: right;\">\n      <th></th>\n      <th>Act_Y</th>\n      <th>Pred_y</th>\n    </tr>\n  </thead>\n  <tbody>\n    <tr>\n      <th>0</th>\n      <td>0</td>\n      <td>0</td>\n    </tr>\n    <tr>\n      <th>1</th>\n      <td>0</td>\n      <td>0</td>\n    </tr>\n    <tr>\n      <th>2</th>\n      <td>0</td>\n      <td>0</td>\n    </tr>\n    <tr>\n      <th>3</th>\n      <td>0</td>\n      <td>0</td>\n    </tr>\n    <tr>\n      <th>4</th>\n      <td>0</td>\n      <td>0</td>\n    </tr>\n    <tr>\n      <th>...</th>\n      <td>...</td>\n      <td>...</td>\n    </tr>\n    <tr>\n      <th>45206</th>\n      <td>1</td>\n      <td>1</td>\n    </tr>\n    <tr>\n      <th>45207</th>\n      <td>1</td>\n      <td>0</td>\n    </tr>\n    <tr>\n      <th>45208</th>\n      <td>1</td>\n      <td>1</td>\n    </tr>\n    <tr>\n      <th>45209</th>\n      <td>0</td>\n      <td>0</td>\n    </tr>\n    <tr>\n      <th>45210</th>\n      <td>0</td>\n      <td>0</td>\n    </tr>\n  </tbody>\n</table>\n<p>45211 rows × 2 columns</p>\n</div>",
            "text/plain": "       Act_Y  Pred_y\n0          0       0\n1          0       0\n2          0       0\n3          0       0\n4          0       0\n...      ...     ...\n45206      1       1\n45207      1       0\n45208      1       1\n45209      0       0\n45210      0       0\n\n[45211 rows x 2 columns]"
          },
          "execution_count": 35,
          "metadata": {},
          "output_type": "execute_result"
        }
      ]
    },
    {
      "metadata": {
        "ExecuteTime": {
          "end_time": "2023-05-29T06:58:26.245127Z",
          "start_time": "2023-05-29T06:58:26.191695Z"
        },
        "trusted": false
      },
      "id": "04fbcfe6",
      "cell_type": "code",
      "source": "from sklearn.metrics import confusion_matrix\nconfusion_matrix=confusion_matrix(y,y_pred)",
      "execution_count": 36,
      "outputs": []
    },
    {
      "metadata": {
        "ExecuteTime": {
          "end_time": "2023-05-29T06:58:57.306124Z",
          "start_time": "2023-05-29T06:58:57.282358Z"
        },
        "trusted": false
      },
      "id": "5f81811a",
      "cell_type": "code",
      "source": "confusion_matrix",
      "execution_count": 37,
      "outputs": [
        {
          "data": {
            "text/plain": "array([[39161,   761],\n       [ 4141,  1148]], dtype=int64)"
          },
          "execution_count": 37,
          "metadata": {},
          "output_type": "execute_result"
        }
      ]
    },
    {
      "metadata": {
        "ExecuteTime": {
          "end_time": "2023-05-29T07:00:05.718165Z",
          "start_time": "2023-05-29T07:00:05.427785Z"
        },
        "trusted": false
      },
      "id": "18641922",
      "cell_type": "code",
      "source": "pd.crosstab(y_pred,y)",
      "execution_count": 38,
      "outputs": [
        {
          "data": {
            "text/html": "<div>\n<style scoped>\n    .dataframe tbody tr th:only-of-type {\n        vertical-align: middle;\n    }\n\n    .dataframe tbody tr th {\n        vertical-align: top;\n    }\n\n    .dataframe thead th {\n        text-align: right;\n    }\n</style>\n<table border=\"1\" class=\"dataframe\">\n  <thead>\n    <tr style=\"text-align: right;\">\n      <th>y</th>\n      <th>0</th>\n      <th>1</th>\n    </tr>\n    <tr>\n      <th>row_0</th>\n      <th></th>\n      <th></th>\n    </tr>\n  </thead>\n  <tbody>\n    <tr>\n      <th>0</th>\n      <td>39161</td>\n      <td>4141</td>\n    </tr>\n    <tr>\n      <th>1</th>\n      <td>761</td>\n      <td>1148</td>\n    </tr>\n  </tbody>\n</table>\n</div>",
            "text/plain": "y          0     1\nrow_0             \n0      39161  4141\n1        761  1148"
          },
          "execution_count": 38,
          "metadata": {},
          "output_type": "execute_result"
        }
      ]
    },
    {
      "metadata": {
        "ExecuteTime": {
          "end_time": "2023-05-29T07:02:15.523224Z",
          "start_time": "2023-05-29T07:02:15.499484Z"
        },
        "trusted": false
      },
      "id": "3c97ce05",
      "cell_type": "code",
      "source": "accuracy=sum(y==y_pred)/bank1.shape[0]\naccuracy",
      "execution_count": 41,
      "outputs": [
        {
          "data": {
            "text/plain": "0.8915750591670168"
          },
          "execution_count": 41,
          "metadata": {},
          "output_type": "execute_result"
        }
      ]
    },
    {
      "metadata": {
        "ExecuteTime": {
          "end_time": "2023-05-29T07:06:15.015381Z",
          "start_time": "2023-05-29T07:06:14.954300Z"
        },
        "trusted": false
      },
      "id": "ae65f178",
      "cell_type": "code",
      "source": "classifier.predict_proba(x)[:,1]",
      "execution_count": 43,
      "outputs": [
        {
          "data": {
            "text/plain": "array([0.05158176, 0.02812438, 0.02020504, ..., 0.66180078, 0.08133641,\n       0.11013645])"
          },
          "execution_count": 43,
          "metadata": {},
          "output_type": "execute_result"
        }
      ]
    },
    {
      "metadata": {
        "ExecuteTime": {
          "end_time": "2023-05-29T07:12:26.117726Z",
          "start_time": "2023-05-29T07:12:25.124711Z"
        },
        "trusted": false
      },
      "id": "479d1603",
      "cell_type": "code",
      "source": "from sklearn.metrics import roc_auc_score\nfrom sklearn.metrics import roc_curve\nfpr,tpr,thresholds=roc_curve(y,classifier.predict_proba(x)[:,1])\nauc=roc_auc_score(y,y_pred)\n\nplt.plot(fpr,tpr,color='red',label='Logistic Regression(area  = %0.2f)'%auc)\nplt.plot([0,1],[0,1],'k--')\nplt.xlabel('False Positive Rate')\nplt.ylabel('True Positive Rate')\nplt.show()\n",
      "execution_count": 44,
      "outputs": [
        {
          "data": {
            "image/png": "[encoded data removed]",
            "text/plain": "<Figure size 432x288 with 1 Axes>"
          },
          "metadata": {
            "needs_background": "light"
          },
          "output_type": "display_data"
        }
      ]
    },
    {
      "metadata": {
        "ExecuteTime": {
          "end_time": "2023-05-29T07:12:51.004814Z",
          "start_time": "2023-05-29T07:12:50.973013Z"
        },
        "trusted": false
      },
      "id": "939f1161",
      "cell_type": "code",
      "source": "auc",
      "execution_count": 45,
      "outputs": [
        {
          "data": {
            "text/plain": "0.5989960461659927"
          },
          "execution_count": 45,
          "metadata": {},
          "output_type": "execute_result"
        }
      ]
    }
  ],
  "metadata": {
    "kernelspec": {
      "name": "python3",
      "display_name": "Python 3 (ipykernel)",
      "language": "python"
    },
    "language_info": {
      "name": "python",
      "version": "3.9.12",
      "mimetype": "text/x-python",
      "codemirror_mode": {
        "name": "ipython",
        "version": 3
      },
      "pygments_lexer": "ipython3",
      "nbconvert_exporter": "python",
      "file_extension": ".py"
    },
    "gist": {
      "id": "",
      "data": {
        "description": "Assignment 6 Logistic Regression.ipynb",
        "public": true
      }
    }
  },
  "nbformat": 4,
  "nbformat_minor": 5
}